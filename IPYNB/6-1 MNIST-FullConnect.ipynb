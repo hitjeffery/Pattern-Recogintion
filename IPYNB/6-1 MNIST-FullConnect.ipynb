{
 "cells": [
  {
   "cell_type": "markdown",
   "id": "9250b8d2",
   "metadata": {},
   "source": [
    "### 全连接网络分类 MNIST 数据集\n",
    "\n",
    "**数据准备**\n",
    "+ 读取MNIST训练和测试数据\n",
    "+ 图像像素范围有$[0,255]$变换到$[0,1]$\n",
    "+ 显示训练集和测试集大小"
   ]
  },
  {
   "cell_type": "code",
   "execution_count": 1,
   "id": "095ee859",
   "metadata": {},
   "outputs": [
    {
     "name": "stdout",
     "output_type": "stream",
     "text": [
      "Shape of train samples: (60000, 784)\n",
      "Shape of test samples: (10000, 784)\n"
     ]
    }
   ],
   "source": [
    "import numpy as np\n",
    "import pandas as pd\n",
    "\n",
    "train_data = pd.read_csv(\"MNIST_train.csv\")\n",
    "train_images = train_data.iloc[:,1:785].to_numpy()\n",
    "train_images = train_images.astype('float32')/255.\n",
    "\n",
    "test_data = pd.read_csv(\"MNIST_test.csv\")\n",
    "test_images = test_data.iloc[:,1:785].to_numpy()\n",
    "test_images = test_images.astype('float32')/255.\n",
    "\n",
    "print(\"Shape of train samples:\", train_images.shape)\n",
    "print(\"Shape of test samples:\", test_images.shape)"
   ]
  },
  {
   "cell_type": "markdown",
   "id": "6872d26e",
   "metadata": {},
   "source": [
    "**数据准备**\n",
    "+ 将训练数据和测试数据的label转换为one-hot编码"
   ]
  },
  {
   "cell_type": "code",
   "execution_count": 20,
   "id": "99c92e85",
   "metadata": {},
   "outputs": [
    {
     "name": "stdout",
     "output_type": "stream",
     "text": [
      "Original labels:\n",
      " [5 0 4 1 9 2 1 3 1 4]\n",
      "One-hot labels:\n",
      " [[0. 0. 0. 0. 0. 1. 0. 0. 0. 0.]\n",
      " [1. 0. 0. 0. 0. 0. 0. 0. 0. 0.]\n",
      " [0. 0. 0. 0. 1. 0. 0. 0. 0. 0.]\n",
      " [0. 1. 0. 0. 0. 0. 0. 0. 0. 0.]\n",
      " [0. 0. 0. 0. 0. 0. 0. 0. 0. 1.]\n",
      " [0. 0. 1. 0. 0. 0. 0. 0. 0. 0.]\n",
      " [0. 1. 0. 0. 0. 0. 0. 0. 0. 0.]\n",
      " [0. 0. 0. 1. 0. 0. 0. 0. 0. 0.]\n",
      " [0. 1. 0. 0. 0. 0. 0. 0. 0. 0.]\n",
      " [0. 0. 0. 0. 1. 0. 0. 0. 0. 0.]]\n",
      "\n",
      "Shape of train labels: (60000, 10)\n",
      "Shape of test labels: (10000, 10)\n"
     ]
    }
   ],
   "source": [
    "from tensorflow.keras.utils import to_categorical\n",
    "\n",
    "train_labels = train_data.iloc[:,0].to_numpy()\n",
    "test_labels = test_data.iloc[:,0].to_numpy()\n",
    "print(\"Original labels:\\n\", train_labels[0:10])\n",
    "\n",
    "train_labels = to_categorical(train_labels)\n",
    "test_labels = to_categorical(test_labels)\n",
    "\n",
    "print(\"One-hot labels:\\n\", train_labels[0:10,:])\n",
    "print(\"\\nShape of train labels:\", train_labels.shape)\n",
    "print(\"Shape of test labels:\", test_labels.shape)"
   ]
  },
  {
   "cell_type": "markdown",
   "id": "ca34bd90",
   "metadata": {},
   "source": [
    "**网络结构**   \n",
    "+ 输入层：$28\\times 28=784$个神经元\n",
    "+ 隐含层：$512$个神经元，激活函数relu\n",
    "+ 输出层：$10$个神经元，激活函数softmax\n",
    "      \n",
    "**学习参数**\n",
    "+ 优化算法：rmsprop\n",
    "+ 损失函数：交叉熵"
   ]
  },
  {
   "cell_type": "code",
   "execution_count": 2,
   "id": "a5e3defb",
   "metadata": {},
   "outputs": [
    {
     "name": "stdout",
     "output_type": "stream",
     "text": [
      "Model: \"sequential_1\"\n",
      "_________________________________________________________________\n",
      " Layer (type)                Output Shape              Param #   \n",
      "=================================================================\n",
      " dense_2 (Dense)             (None, 512)               401920    \n",
      "                                                                 \n",
      " dense_3 (Dense)             (None, 10)                5130      \n",
      "                                                                 \n",
      "=================================================================\n",
      "Total params: 407,050\n",
      "Trainable params: 407,050\n",
      "Non-trainable params: 0\n",
      "_________________________________________________________________\n"
     ]
    }
   ],
   "source": [
    "from tensorflow.keras import models\n",
    "from tensorflow.keras import layers\n",
    "\n",
    "network = models.Sequential()\n",
    "network.add(layers.Input(shape=(28*28,)))\n",
    "network.add(layers.Dense(512, activation='relu',kernel_initializer='GlorotUniform'))\n",
    "network.add(layers.Dense(10, activation='softmax'))\n",
    "\n",
    "network.summary()"
   ]
  },
  {
   "cell_type": "markdown",
   "id": "fe881dab",
   "metadata": {},
   "source": [
    "**网络学习和测试**\n",
    "+ 随机梯度学习参数，每一轮迭代(batch)随机抽取128个训练样本\n",
    "+ 每个回合(epoch)迭代469轮（60000/128=468.75）\n",
    "+ 学习5个回合\n",
    "+ 显示测试样本分类正确率"
   ]
  },
  {
   "cell_type": "code",
   "execution_count": 16,
   "id": "d83a0d2a",
   "metadata": {},
   "outputs": [
    {
     "name": "stdout",
     "output_type": "stream",
     "text": [
      "Epoch 1/5\n",
      "469/469 [==============================] - 3s 6ms/step - loss: 0.2635 - accuracy: 0.9237\n",
      "Epoch 2/5\n",
      "469/469 [==============================] - 3s 6ms/step - loss: 0.1057 - accuracy: 0.9688\n",
      "Epoch 3/5\n",
      "469/469 [==============================] - 3s 6ms/step - loss: 0.0700 - accuracy: 0.9789\n",
      "Epoch 4/5\n",
      "469/469 [==============================] - 3s 6ms/step - loss: 0.0515 - accuracy: 0.9846\n",
      "Epoch 5/5\n",
      "469/469 [==============================] - 3s 6ms/step - loss: 0.0380 - accuracy: 0.9891\n",
      "\n",
      "\n",
      "313/313 [==============================] - 0s 1ms/step - loss: 0.0683 - accuracy: 0.9788\n",
      "Test Accuracy: 0.9787999987602234\n"
     ]
    }
   ],
   "source": [
    "network.compile(optimizer='rmsprop',loss='categorical_crossentropy',\n",
    "                metrics=['accuracy'])\n",
    "network.fit(train_images, train_labels, epochs=5, batch_size=128)\n",
    "print(\"\\n\")\n",
    "\n",
    "test_loss, test_acc = network.evaluate(test_images, test_labels)\n",
    "print('Test Accuracy:', test_acc)"
   ]
  }
 ],
 "metadata": {
  "kernelspec": {
   "display_name": "Python 3.10.6 64-bit",
   "language": "python",
   "name": "python3"
  },
  "language_info": {
   "codemirror_mode": {
    "name": "ipython",
    "version": 3
   },
   "file_extension": ".py",
   "mimetype": "text/x-python",
   "name": "python",
   "nbconvert_exporter": "python",
   "pygments_lexer": "ipython3",
   "version": "3.10.6"
  },
  "varInspector": {
   "cols": {
    "lenName": 16,
    "lenType": 16,
    "lenVar": 40
   },
   "kernels_config": {
    "python": {
     "delete_cmd_postfix": "",
     "delete_cmd_prefix": "del ",
     "library": "var_list.py",
     "varRefreshCmd": "print(var_dic_list())"
    },
    "r": {
     "delete_cmd_postfix": ") ",
     "delete_cmd_prefix": "rm(",
     "library": "var_list.r",
     "varRefreshCmd": "cat(var_dic_list()) "
    }
   },
   "types_to_exclude": [
    "module",
    "function",
    "builtin_function_or_method",
    "instance",
    "_Feature"
   ],
   "window_display": false
  },
  "vscode": {
   "interpreter": {
    "hash": "ddf966d84b65d4f1c0cef9a82beafdf798688d4a0531bc1dbb1d114abc9a6dd4"
   }
  }
 },
 "nbformat": 4,
 "nbformat_minor": 5
}
