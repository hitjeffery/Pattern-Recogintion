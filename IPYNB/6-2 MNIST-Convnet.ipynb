{
 "cells": [
  {
   "cell_type": "markdown",
   "id": "e075498e",
   "metadata": {},
   "source": [
    "### 卷积网络分类 MNIST 数据集\n",
    "\n",
    "**数据准备**\n",
    "+ 读取训练和测试数据集\n",
    "+ 图像数据转换为$28\\times28\\times1$的张量\n",
    "+ 像素值变换到$[0,1]$\n",
    "+ 类别标记变换为one-hot编码"
   ]
  },
  {
   "cell_type": "code",
   "execution_count": 1,
   "id": "71a8bdd5",
   "metadata": {},
   "outputs": [
    {
     "name": "stdout",
     "output_type": "stream",
     "text": [
      "Shape of train samples: (60000, 28, 28, 1)\n",
      "Shape of train labels: (60000, 10)\n",
      "\n",
      "Shape of test samples: (10000, 28, 28, 1)\n",
      "Shape of test labelss: (10000, 10)\n"
     ]
    }
   ],
   "source": [
    "import numpy as np\n",
    "import pandas as pd\n",
    "from tensorflow.keras.utils import to_categorical\n",
    "\n",
    "train_data = pd.read_csv(\"MNIST_train.csv\")\n",
    "train_images = train_data.iloc[:,1:785].to_numpy()\n",
    "train_images = train_images.reshape(60000,28,28,1)/255\n",
    "\n",
    "train_labels = train_data.iloc[:,0].to_numpy()\n",
    "train_labels = to_categorical(train_labels)\n",
    "\n",
    "print(\"Shape of train samples:\", train_images.shape)\n",
    "print(\"Shape of train labels:\", train_labels.shape)\n",
    "\n",
    "test_data = pd.read_csv(\"MNIST_test.csv\")\n",
    "test_images = test_data.iloc[:,1:785].to_numpy()\n",
    "test_images = test_images.reshape(10000,28,28,1)/255\n",
    "\n",
    "test_labels = test_data.iloc[:,0].to_numpy()\n",
    "test_labels = to_categorical(test_labels)\n",
    "\n",
    "print(\"\\nShape of test samples:\", test_images.shape)\n",
    "print(\"Shape of test labelss:\", test_labels.shape)"
   ]
  },
  {
   "cell_type": "markdown",
   "id": "cb5e6621",
   "metadata": {},
   "source": [
    "**构建网络**\n",
    "+ 输入层：$28\\times 28 \\times 1$ 张量\n",
    "+ 卷积层1：$32$个$3\\times 3$的卷积核\n",
    "+ 池化层1：最大值池化\n",
    "+ 输出层2：$64$个$3\\times 3$的卷积核\n",
    "+ 池化层2：最大值池化\n",
    "+ 输出层3：$64$个$3\\times 3$的卷积核\n",
    "+ 全连接层：$64$个神经元\n",
    "+ 输出层：$10$个神经元，Softmax激活函数"
   ]
  },
  {
   "cell_type": "code",
   "execution_count": 2,
   "id": "10267541",
   "metadata": {},
   "outputs": [
    {
     "name": "stdout",
     "output_type": "stream",
     "text": [
      "Model: \"sequential\"\n",
      "_________________________________________________________________\n",
      " Layer (type)                Output Shape              Param #   \n",
      "=================================================================\n",
      " conv2d (Conv2D)             (None, 26, 26, 32)        320       \n",
      "                                                                 \n",
      " max_pooling2d (MaxPooling2D  (None, 13, 13, 32)       0         \n",
      " )                                                               \n",
      "                                                                 \n",
      " conv2d_1 (Conv2D)           (None, 11, 11, 64)        18496     \n",
      "                                                                 \n",
      " max_pooling2d_1 (MaxPooling  (None, 5, 5, 64)         0         \n",
      " 2D)                                                             \n",
      "                                                                 \n",
      " conv2d_2 (Conv2D)           (None, 3, 3, 64)          36928     \n",
      "                                                                 \n",
      " flatten (Flatten)           (None, 576)               0         \n",
      "                                                                 \n",
      " dense (Dense)               (None, 64)                36928     \n",
      "                                                                 \n",
      " dense_1 (Dense)             (None, 10)                650       \n",
      "                                                                 \n",
      "=================================================================\n",
      "Total params: 93,322\n",
      "Trainable params: 93,322\n",
      "Non-trainable params: 0\n",
      "_________________________________________________________________\n"
     ]
    }
   ],
   "source": [
    "from tensorflow.keras import models\n",
    "from tensorflow.keras import layers\n",
    "\n",
    "network = models.Sequential()\n",
    "network.add(layers.Input(shape=(28,28,1)))\n",
    "network.add(layers.Conv2D(32,(3,3),activation='relu'))\n",
    "network.add(layers.MaxPooling2D((2, 2)))\n",
    "network.add(layers.Conv2D(64,(3,3),activation='relu'))\n",
    "network.add(layers.MaxPooling2D((2, 2)))\n",
    "network.add(layers.Conv2D(64,(3,3),activation='relu'))\n",
    "\n",
    "network.add(layers.Flatten())\n",
    "network.add(layers.Dense(64, activation='relu'))\n",
    "network.add(layers.Dense(10, activation='softmax'))\n",
    "\n",
    "network.summary()"
   ]
  },
  {
   "cell_type": "markdown",
   "id": "7e8bd636",
   "metadata": {},
   "source": [
    "**网络学习和测试**\n",
    "+ 优化算法：rmsprop\n",
    "+ 损失函数：交叉熵\n",
    "+ 以分类准确率作为度量\n",
    "+ 学习5个回合\n",
    "+ 每个回合迭代938个batch，每个batch 64个训练样本\n",
    "+ 评估测试集的分类正确率"
   ]
  },
  {
   "cell_type": "code",
   "execution_count": 3,
   "id": "1ecb3f6c",
   "metadata": {},
   "outputs": [
    {
     "name": "stdout",
     "output_type": "stream",
     "text": [
      "Epoch 1/5\n",
      "938/938 [==============================] - 19s 5ms/step - loss: 0.1637 - accuracy: 0.9495\n",
      "Epoch 2/5\n",
      "938/938 [==============================] - 5s 5ms/step - loss: 0.0476 - accuracy: 0.9857\n",
      "Epoch 3/5\n",
      "938/938 [==============================] - 5s 5ms/step - loss: 0.0328 - accuracy: 0.9900\n",
      "Epoch 4/5\n",
      "938/938 [==============================] - 5s 5ms/step - loss: 0.0244 - accuracy: 0.9924\n",
      "Epoch 5/5\n",
      "938/938 [==============================] - 5s 5ms/step - loss: 0.0196 - accuracy: 0.9938\n",
      "\n",
      "\n",
      "313/313 [==============================] - 1s 3ms/step - loss: 0.0432 - accuracy: 0.9887\n",
      "Test Accuracy: 0.9886999726295471\n"
     ]
    }
   ],
   "source": [
    "network.compile(optimizer='rmsprop',loss='categorical_crossentropy',metrics=['accuracy'])\n",
    "network.fit(train_images, train_labels, epochs=5, batch_size=64)\n",
    "print('\\n')\n",
    "\n",
    "test_loss, test_acc = network.evaluate(test_images, test_labels)\n",
    "print('Test Accuracy:', test_acc)"
   ]
  }
 ],
 "metadata": {
  "kernelspec": {
   "display_name": "Python 3.10.6 64-bit",
   "language": "python",
   "name": "python3"
  },
  "language_info": {
   "codemirror_mode": {
    "name": "ipython",
    "version": 3
   },
   "file_extension": ".py",
   "mimetype": "text/x-python",
   "name": "python",
   "nbconvert_exporter": "python",
   "pygments_lexer": "ipython3",
   "version": "3.10.6"
  },
  "varInspector": {
   "cols": {
    "lenName": 16,
    "lenType": 16,
    "lenVar": 40
   },
   "kernels_config": {
    "python": {
     "delete_cmd_postfix": "",
     "delete_cmd_prefix": "del ",
     "library": "var_list.py",
     "varRefreshCmd": "print(var_dic_list())"
    },
    "r": {
     "delete_cmd_postfix": ") ",
     "delete_cmd_prefix": "rm(",
     "library": "var_list.r",
     "varRefreshCmd": "cat(var_dic_list()) "
    }
   },
   "types_to_exclude": [
    "module",
    "function",
    "builtin_function_or_method",
    "instance",
    "_Feature"
   ],
   "window_display": false
  },
  "vscode": {
   "interpreter": {
    "hash": "ddf966d84b65d4f1c0cef9a82beafdf798688d4a0531bc1dbb1d114abc9a6dd4"
   }
  }
 },
 "nbformat": 4,
 "nbformat_minor": 5
}
