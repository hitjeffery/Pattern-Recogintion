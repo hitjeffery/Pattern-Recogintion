{
 "cells": [
  {
   "cell_type": "markdown",
   "metadata": {},
   "source": [
    "#### 随机森林分类Breast Cancer数据集\n",
    "\n",
    "**数据准备**\n",
    "+ 读取BreastCancer.csv数据文件\n",
    "+ 将类别标记{M,B}替换为{0,1}\n",
    "+ 随机划分数据集：训练集75%，测试集25%"
   ]
  },
  {
   "cell_type": "code",
   "execution_count": 1,
   "metadata": {},
   "outputs": [
    {
     "name": "stdout",
     "output_type": "stream",
     "text": [
      "Shape of train data: (426, 30)\n",
      "Shape of test data: (143, 30)\n"
     ]
    }
   ],
   "source": [
    "import numpy as np\n",
    "import pandas as pd\n",
    "from sklearn.model_selection import train_test_split\n",
    "\n",
    "data = pd.read_csv(\"BreastCancer.csv\")\n",
    "\n",
    "class_mapping = {'M':0,'B':1}\n",
    "data['diagnosis'] = data['diagnosis'].map(class_mapping)\n",
    "\n",
    "X = data.iloc[:,2:-1].to_numpy(); y = data.iloc[:,1].to_numpy()\n",
    "\n",
    "X_train, X_test, y_train, y_test = train_test_split(X, y, random_state=0)\n",
    "\n",
    "print(\"Shape of train data:\", X_train.shape)\n",
    "print(\"Shape of test data:\", X_test.shape)"
   ]
  },
  {
   "cell_type": "markdown",
   "metadata": {},
   "source": [
    "**学习决策树分类器**\n",
    "+ 训练集学习决策树\n",
    "+ 学习算法：C4.5\n",
    "+ 测试决策树分类器在训练集和测试集上的正确率"
   ]
  },
  {
   "cell_type": "code",
   "execution_count": 2,
   "metadata": {},
   "outputs": [
    {
     "name": "stdout",
     "output_type": "stream",
     "text": [
      "Decision Tree Classifier:\n",
      "\t Accuracy on training set:  1.0\n",
      "\t Accuracy on test set:  0.958041958041958\n"
     ]
    }
   ],
   "source": [
    "from sklearn.tree import DecisionTreeClassifier\n",
    "\n",
    "tree = DecisionTreeClassifier(max_depth=7,random_state=0,criterion='entropy')\n",
    "tree.fit(X_train, y_train)\n",
    "\n",
    "print( \"Decision Tree Classifier:\")\n",
    "print(\"\\t Accuracy on training set: \", tree.score(X_train, y_train))\n",
    "print(\"\\t Accuracy on test set: \", tree.score(X_test, y_test))"
   ]
  },
  {
   "cell_type": "markdown",
   "metadata": {},
   "source": [
    "**学习随机森林分类器**\n",
    "+ 训练集学习随机森林\n",
    "+ 集成100棵随机树\n",
    "+ 测试随机森林分类器在训练集和测试集上的正确率"
   ]
  },
  {
   "cell_type": "code",
   "execution_count": 3,
   "metadata": {},
   "outputs": [
    {
     "name": "stdout",
     "output_type": "stream",
     "text": [
      "Random Forest Classifier:\n",
      "\t Accuracy on training set:  1.0\n",
      "\t Accuracy on test set:  0.972027972027972\n"
     ]
    }
   ],
   "source": [
    "from sklearn.ensemble import RandomForestClassifier\n",
    "\n",
    "forest = RandomForestClassifier(n_estimators=100, random_state=0)\n",
    "forest.fit(X_train, y_train)\n",
    "\n",
    "print( \"Random Forest Classifier:\")\n",
    "print(\"\\t Accuracy on training set: \", forest.score(X_train, y_train))\n",
    "print(\"\\t Accuracy on test set: \", forest.score(X_test, y_test))"
   ]
  }
 ],
 "metadata": {
  "kernelspec": {
   "display_name": "Python 3.8.7 64-bit",
   "language": "python",
   "name": "python3"
  },
  "language_info": {
   "codemirror_mode": {
    "name": "ipython",
    "version": 3
   },
   "file_extension": ".py",
   "mimetype": "text/x-python",
   "name": "python",
   "nbconvert_exporter": "python",
   "pygments_lexer": "ipython3",
   "version": "3.8.7"
  },
  "orig_nbformat": 4,
  "vscode": {
   "interpreter": {
    "hash": "e0144baad0ecee903f108a3e46e51ceadd7da3fc904cfa79747d813b61464b4e"
   }
  }
 },
 "nbformat": 4,
 "nbformat_minor": 2
}
