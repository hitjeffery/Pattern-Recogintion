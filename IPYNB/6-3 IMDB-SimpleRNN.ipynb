{
 "cells": [
  {
   "cell_type": "markdown",
   "id": "38352849",
   "metadata": {},
   "source": [
    "#### RNN分类IMDB数据集\n",
    "\n",
    "**数据准备**\n",
    "+ 加载IMDB数据集\n",
    "+ 每一篇评论只保留最常用的10000个单词，去掉不常用词\n",
    "+ 每篇评论padding成长度为500的sequence\n",
    "    - 过长截断\n",
    "    - 过短添0"
   ]
  },
  {
   "cell_type": "code",
   "execution_count": 1,
   "id": "ed2e8e90",
   "metadata": {},
   "outputs": [
    {
     "name": "stdout",
     "output_type": "stream",
     "text": [
      "25000 train sequences\n",
      "25000 test sequences\n",
      "Pad sequences (samples x time)\n",
      "x_train shape: (25000, 500)\n",
      "x_test shape: (25000, 500)\n"
     ]
    }
   ],
   "source": [
    "from tensorflow.keras.datasets import imdb\n",
    "from tensorflow.keras.utils import pad_sequences\n",
    "\n",
    "max_features = 10000\n",
    "maxlen = 500\n",
    "\n",
    "(x_train, y_train), (x_test, y_test) = imdb.load_data(num_words=max_features)\n",
    "\n",
    "print(len(x_train), 'train sequences')\n",
    "print(len(x_test), 'test sequences')\n",
    "print('Pad sequences (samples x time)')\n",
    "\n",
    "x_train = pad_sequences(x_train, maxlen=maxlen)\n",
    "x_test = pad_sequences(x_test, maxlen=maxlen)\n",
    "\n",
    "print('x_train shape:', x_train.shape)\n",
    "print('x_test shape:', x_test.shape)"
   ]
  },
  {
   "cell_type": "markdown",
   "id": "88dfc462",
   "metadata": {},
   "source": [
    "**构建网络**\n",
    "+ Embedding层：32个神经元\n",
    "+ SimpleRNN层：接收输入的32维向量和循环输入的32维向量，输出32维向量\n",
    "+ 输出层：1个神经元，激活函数sigmoid"
   ]
  },
  {
   "cell_type": "code",
   "execution_count": 2,
   "id": "df8022d1",
   "metadata": {},
   "outputs": [
    {
     "name": "stdout",
     "output_type": "stream",
     "text": [
      "Model: \"sequential\"\n",
      "_________________________________________________________________\n",
      " Layer (type)                Output Shape              Param #   \n",
      "=================================================================\n",
      " embedding (Embedding)       (None, None, 32)          320000    \n",
      "                                                                 \n",
      " simple_rnn (SimpleRNN)      (None, 32)                2080      \n",
      "                                                                 \n",
      " dense (Dense)               (None, 1)                 33        \n",
      "                                                                 \n",
      "=================================================================\n",
      "Total params: 322,113\n",
      "Trainable params: 322,113\n",
      "Non-trainable params: 0\n",
      "_________________________________________________________________\n"
     ]
    }
   ],
   "source": [
    "from tensorflow.keras import models\n",
    "from tensorflow.keras import layers\n",
    "\n",
    "network = models.Sequential()\n",
    "network.add(layers.Embedding(max_features, 32))\n",
    "network.add(layers.SimpleRNN(32))\n",
    "network.add(layers.Dense(1, activation='sigmoid'))\n",
    "\n",
    "network.summary()"
   ]
  },
  {
   "cell_type": "markdown",
   "id": "1e6c0618",
   "metadata": {},
   "source": [
    "**学习网络**\n",
    "+ 优化方法：rmsprop\n",
    "+ 损失函数：binary_crossentropy\n",
    "+ 分类正确率作为度量\n",
    "+ 学习10个回合，每个batch 128个样本，保留$20\\%$的训练样本做为验证集"
   ]
  },
  {
   "cell_type": "code",
   "execution_count": 20,
   "id": "dcbcfc23",
   "metadata": {},
   "outputs": [
    {
     "name": "stdout",
     "output_type": "stream",
     "text": [
      "Epoch 1/10\n",
      "157/157 [==============================] - 14s 82ms/step - loss: 0.6344 - acc: 0.6227 - val_loss: 0.4851 - val_acc: 0.7816\n",
      "Epoch 2/10\n",
      "157/157 [==============================] - 13s 80ms/step - loss: 0.3904 - acc: 0.8353 - val_loss: 0.3968 - val_acc: 0.8260\n",
      "Epoch 3/10\n",
      "157/157 [==============================] - 12s 79ms/step - loss: 0.2788 - acc: 0.8888 - val_loss: 0.3656 - val_acc: 0.8584\n",
      "Epoch 4/10\n",
      "157/157 [==============================] - 12s 79ms/step - loss: 0.2265 - acc: 0.9129 - val_loss: 0.4273 - val_acc: 0.8144\n",
      "Epoch 5/10\n",
      "157/157 [==============================] - 12s 79ms/step - loss: 0.1605 - acc: 0.9420 - val_loss: 0.4396 - val_acc: 0.8112\n",
      "Epoch 6/10\n",
      "157/157 [==============================] - 12s 79ms/step - loss: 0.1126 - acc: 0.9630 - val_loss: 0.3998 - val_acc: 0.8650\n",
      "Epoch 7/10\n",
      "157/157 [==============================] - 13s 80ms/step - loss: 0.0823 - acc: 0.9727 - val_loss: 0.5156 - val_acc: 0.8178\n",
      "Epoch 8/10\n",
      "157/157 [==============================] - 12s 79ms/step - loss: 0.0536 - acc: 0.9837 - val_loss: 0.5027 - val_acc: 0.8514\n",
      "Epoch 9/10\n",
      "157/157 [==============================] - 12s 79ms/step - loss: 0.0320 - acc: 0.9912 - val_loss: 0.7190 - val_acc: 0.7730\n",
      "Epoch 10/10\n",
      "157/157 [==============================] - 12s 79ms/step - loss: 0.0211 - acc: 0.9936 - val_loss: 0.6155 - val_acc: 0.8262\n"
     ]
    }
   ],
   "source": [
    "network.compile(optimizer='rmsprop', loss='binary_crossentropy', metrics=['acc'])\n",
    "history = network.fit(x_train, y_train,epochs=10,batch_size=128,validation_split=0.2)"
   ]
  },
  {
   "cell_type": "markdown",
   "id": "616cab0e",
   "metadata": {},
   "source": [
    "**测试网络性能**\n",
    "+ 分别使用训练集和测试集样本评估网络性能"
   ]
  },
  {
   "cell_type": "code",
   "execution_count": 21,
   "id": "0e66f1e4",
   "metadata": {},
   "outputs": [
    {
     "name": "stdout",
     "output_type": "stream",
     "text": [
      "782/782 [==============================] - 12s 15ms/step - loss: 0.1268 - acc: 0.9646\n",
      "782/782 [==============================] - 12s 15ms/step - loss: 0.6593 - acc: 0.8134\n",
      "\n",
      "Train Accuracy:      0.9646400213241577\n",
      "Test Accuracy:       0.8133599758148193\n"
     ]
    }
   ],
   "source": [
    "train_loss, train_acc = network.evaluate(x_train,y_train)\n",
    "test_loss, test_acc = network.evaluate(x_test,y_test)\n",
    "\n",
    "print('\\nTrain Accuracy:     ', train_acc)\n",
    "print('Test Accuracy:      ', test_acc)"
   ]
  },
  {
   "cell_type": "markdown",
   "id": "a285639c",
   "metadata": {},
   "source": [
    "**显示网络学习过程**"
   ]
  },
  {
   "cell_type": "code",
   "execution_count": 22,
   "id": "a32e70f1",
   "metadata": {},
   "outputs": [
    {
     "data": {
      "image/png": "[encoded data removed]",
      "text/plain": [
       "<Figure size 432x288 with 1 Axes>"
      ]
     },
     "metadata": {
      "needs_background": "light"
     },
     "output_type": "display_data"
    }
   ],
   "source": [
    "import matplotlib.pyplot as plt\n",
    "\n",
    "acc = history.history['acc']\n",
    "val_acc = history.history['val_acc']\n",
    "\n",
    "epochs = range(1, len(acc) + 1)\n",
    "plt.plot(epochs, acc, 'b', label='Training acc')\n",
    "plt.plot(epochs, val_acc, 'r', label='Validation acc')\n",
    "plt.title('Training and validation accuracy')\n",
    "plt.legend(); plt.show()"
   ]
  }
 ],
 "metadata": {
  "kernelspec": {
   "display_name": "Python 3.8.7 64-bit",
   "language": "python",
   "name": "python3"
  },
  "language_info": {
   "codemirror_mode": {
    "name": "ipython",
    "version": 3
   },
   "file_extension": ".py",
   "mimetype": "text/x-python",
   "name": "python",
   "nbconvert_exporter": "python",
   "pygments_lexer": "ipython3",
   "version": "3.8.7"
  },
  "varInspector": {
   "cols": {
    "lenName": 16,
    "lenType": 16,
    "lenVar": 40
   },
   "kernels_config": {
    "python": {
     "delete_cmd_postfix": "",
     "delete_cmd_prefix": "del ",
     "library": "var_list.py",
     "varRefreshCmd": "print(var_dic_list())"
    },
    "r": {
     "delete_cmd_postfix": ") ",
     "delete_cmd_prefix": "rm(",
     "library": "var_list.r",
     "varRefreshCmd": "cat(var_dic_list()) "
    }
   },
   "types_to_exclude": [
    "module",
    "function",
    "builtin_function_or_method",
    "instance",
    "_Feature"
   ],
   "window_display": false
  },
  "vscode": {
   "interpreter": {
    "hash": "e0144baad0ecee903f108a3e46e51ceadd7da3fc904cfa79747d813b61464b4e"
   }
  }
 },
 "nbformat": 4,
 "nbformat_minor": 5
}
