{
 "cells": [
  {
   "cell_type": "markdown",
   "metadata": {},
   "source": [
    "#### 线性SVM分类\n",
    "\n",
    "两分类数据集：\n",
    "$$ X = \\left\\{ \\left(\\begin{matrix}1\\\\1 \\end{matrix} \\right), \\left(\\begin{matrix}2\\\\2 \\end{matrix} \\right), \\left(\\begin{matrix}2\\\\0 \\end{matrix} \\right), \\left(\\begin{matrix}0\\\\0 \\end{matrix} \\right), \\left(\\begin{matrix}1\\\\0 \\end{matrix} \\right), \\left(\\begin{matrix}0\\\\1 \\end{matrix} \\right) \\right\\} $$\n",
    "类别标记：\n",
    "$$ Y = \\{-1,-1,-1,+1,+1,+1\\} $$"
   ]
  },
  {
   "cell_type": "code",
   "execution_count": 1,
   "metadata": {},
   "outputs": [
    {
     "data": {
      "image/png": "[encoded data removed]",
      "text/plain": [
       "<Figure size 432x288 with 1 Axes>"
      ]
     },
     "metadata": {
      "needs_background": "light"
     },
     "output_type": "display_data"
    }
   ],
   "source": [
    "import numpy as np\n",
    "import matplotlib.pyplot as plt\n",
    "\n",
    "X = np.array([[1,1],[2,2],[2,0],[0,0],[1,0],[0,1]])\n",
    "y = np.array([-1,-1,-1,+1,+1,+1])\n",
    "\n",
    "plt.plot(X[0:3,0],X[0:3,1],'bo')\n",
    "plt.plot(X[3:6,0],X[3:6,1],'r^')\n",
    "\n",
    "plt.show()"
   ]
  },
  {
   "cell_type": "markdown",
   "metadata": {},
   "source": [
    "**求解SVM原始优化问题**"
   ]
  },
  {
   "cell_type": "code",
   "execution_count": 2,
   "metadata": {},
   "outputs": [
    {
     "name": "stdout",
     "output_type": "stream",
     "text": [
      "w: [[-1.99957511 -1.99940016]]\n",
      "b: [2.9992377]\n"
     ]
    },
    {
     "data": {
      "image/png": "[encoded data removed]",
      "text/plain": [
       "<Figure size 432x288 with 1 Axes>"
      ]
     },
     "metadata": {
      "needs_background": "light"
     },
     "output_type": "display_data"
    }
   ],
   "source": [
    "from sklearn.svm import LinearSVC\n",
    "from plot_decision_boundary import plot_decision_boundary\n",
    "\n",
    "CLF = LinearSVC(dual=False,C=10000).fit(X, y)\n",
    "\n",
    "print(\"w:\", CLF.coef_)\n",
    "print(\"b:\",CLF.intercept_)\n",
    "\n",
    "plt.plot(X[0:3,0],X[0:3,1],'bo')\n",
    "plt.plot(X[3:6,0],X[3:6,1],'r^')\n",
    "\n",
    "plot_decision_boundary(CLF,axis=[-0.2,2.2,-0.2,2.2])\n",
    "plt.show()"
   ]
  },
  {
   "cell_type": "markdown",
   "metadata": {},
   "source": [
    "**求解SVM对偶优化问题**\n",
    "\n",
    "+ 显示支持向量及Lagrange系数\n",
    "+ 显示判别函数的权值及偏置"
   ]
  },
  {
   "cell_type": "code",
   "execution_count": 3,
   "metadata": {},
   "outputs": [
    {
     "name": "stdout",
     "output_type": "stream",
     "text": [
      "α of support vectors: [[-2. -2.  4.]]\n",
      "ID of support vectors: [0 2 4]\n",
      "\n",
      "w: [[-2. -2.]]\n",
      "b: [3.]\n"
     ]
    },
    {
     "data": {
      "image/png": "[encoded data removed]",
      "text/plain": [
       "<Figure size 432x288 with 1 Axes>"
      ]
     },
     "metadata": {
      "needs_background": "light"
     },
     "output_type": "display_data"
    }
   ],
   "source": [
    "from sklearn.svm import SVC\n",
    "\n",
    "CLF = SVC(C=10000,kernel='linear').fit(X,y)\n",
    "\n",
    "print(chr(945),\"of support vectors:\", CLF.dual_coef_)\n",
    "print(\"ID of support vectors:\", CLF.support_)\n",
    "\n",
    "print(\"\\nw:\",CLF.coef_)\n",
    "print(\"b:\",CLF.intercept_)\n",
    "\n",
    "plt.plot(X[0:3,0],X[0:3,1],'bo')\n",
    "plt.plot(X[3:6,0],X[3:6,1],'r^')\n",
    "\n",
    "id = np.where(CLF.dual_coef_[0]<0)\n",
    "id_support = CLF.support_[id]\n",
    "plt.plot(X[id_support,0],X[id_support,1],'bo',markeredgecolor='black',markeredgewidth=3,markersize=10)\n",
    "id = np.where(CLF.dual_coef_[0]>0)\n",
    "id_support = CLF.support_[id]\n",
    "plt.plot(X[id_support,0],X[id_support,1],'r^',markeredgecolor='black',markeredgewidth=3,markersize=10)\n",
    "\n",
    "plot_decision_boundary(CLF,axis=[-0.2,2.2,-0.2,2.2])\n",
    "plt.show()"
   ]
  }
 ],
 "metadata": {
  "kernelspec": {
   "display_name": "Python 3.10.6 64-bit",
   "language": "python",
   "name": "python3"
  },
  "language_info": {
   "codemirror_mode": {
    "name": "ipython",
    "version": 3
   },
   "file_extension": ".py",
   "mimetype": "text/x-python",
   "name": "python",
   "nbconvert_exporter": "python",
   "pygments_lexer": "ipython3",
   "version": "3.10.6"
  },
  "orig_nbformat": 4,
  "vscode": {
   "interpreter": {
    "hash": "ddf966d84b65d4f1c0cef9a82beafdf798688d4a0531bc1dbb1d114abc9a6dd4"
   }
  }
 },
 "nbformat": 4,
 "nbformat_minor": 2
}
